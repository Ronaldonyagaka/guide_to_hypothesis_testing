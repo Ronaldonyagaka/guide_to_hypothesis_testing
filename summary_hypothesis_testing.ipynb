{
 "cells": [
  {
   "attachments": {},
   "cell_type": "markdown",
   "metadata": {},
   "source": [
    "### HYPOTHESIS TESTING\n"
   ]
  },
  {
   "attachments": {},
   "cell_type": "markdown",
   "metadata": {},
   "source": [
    "_Definition: Testing of an assumption regarding sample data from a given population and whether this sample meets a given hypothetical condition_\n",
    "\n",
    "_Uses: widely used to compare results based on a before and after basis, for example, patients' condition improve after a certain drug A is administered, so a test is done before and after to establish this_"
   ]
  },
  {
   "attachments": {},
   "cell_type": "markdown",
   "metadata": {},
   "source": [
    "### steps in Hypothesis testing\n",
    "\n",
    "1. DEFINING THE NULL AND ALTERNATIVE HYPOTHESIS\n",
    "\n",
    "* you need to define the ``null hypothesis`` denoted by $H_0$, according to the null hypothesis, there is no difference between groups or correlation between variables.\n",
    "  \n",
    "* you need to also define the ``alternative hypothesis`` denoted by $H_A$, this is the alternate response to your research question It asserts that there is a demographic impact or a statistical significant difference between variables"
   ]
  },
  {
   "attachments": {},
   "cell_type": "markdown",
   "metadata": {},
   "source": [
    "We will explore this using sample data from Kaggle dataset   '[Marketing Campaign csv](https://www.kaggle.com/datasets/imakash3011/customer-personality-analysis)'"
   ]
  },
  {
   "cell_type": "code",
   "execution_count": 48,
   "metadata": {},
   "outputs": [],
   "source": [
    "import  pandas as pd\n",
    "import numpy as np\n"
   ]
  },
  {
   "cell_type": "code",
   "execution_count": 49,
   "metadata": {},
   "outputs": [],
   "source": [
    "# reading the data set\n",
    "\n",
    "df = pd.read_csv('marketing_campaign.csv', sep= '\\t')"
   ]
  },
  {
   "cell_type": "code",
   "execution_count": 50,
   "metadata": {},
   "outputs": [],
   "source": [
    "# selecting a sample size\n",
    "sample_df = df.sample(n = 100, random_state= 100)\n"
   ]
  },
  {
   "attachments": {},
   "cell_type": "markdown",
   "metadata": {},
   "source": [
    "* i would like to explore relationship between two columns in our data, that is ``Recency`` (Number of days since customer's last purchase)  and ``Response`` (if customer accepted the offer in the last campaign). So for my hypothesis:\n",
    "\n",
    "##\n",
    "\n",
    "* $H_0$ : _there is no difference in Recency between the customers who accepted the offer in the last campaign and who did not accept the offer_\n",
    "\n",
    "* $H_A$ : _customers who accepted the offer has lower Recency compared to customers who did not accept the offer_ "
   ]
  },
  {
   "attachments": {},
   "cell_type": "markdown",
   "metadata": {},
   "source": [
    "2. CHOOSING THE RIGHT TEST"
   ]
  },
  {
   "attachments": {},
   "cell_type": "markdown",
   "metadata": {},
   "source": [
    "Most types of test used are summarized as below :\n",
    "* **ANOVA TEST** : Compare the differences between two or more groups of numeric or categorical variables\n",
    "* **T-Test** : compare two groups/categories of numeric variables with small sample size\n",
    "* **Z-Test** : compare two groups/categories of numeric variables with large sample size\n",
    "* **Chi - squared Test** : Examine relationship between two categorical variables\n",
    "* **Correlation Test** : Examine relationship between two numeric variables"
   ]
  },
  {
   "attachments": {},
   "cell_type": "markdown",
   "metadata": {},
   "source": [
    "* here is a summarized diagram of the above tests\n",
    "\n",
    "#\n",
    "\n",
    "![Alt text](chart.png)\n"
   ]
  },
  {
   "attachments": {},
   "cell_type": "markdown",
   "metadata": {},
   "source": [
    "### T-test\n",
    "\n",
    "for the hypothesis , the T-test seems to be the most appropriate. There are three types of T-test: \n",
    "\n",
    "\n",
    "* **one sample t-test:**: test the mean of one group against a constant value\n",
    "* **two sample t-test:** test the difference of means between two groups\n",
    "* **paired sample t-test:** test the difference of means between two measurements of the same subject"
   ]
  },
  {
   "attachments": {},
   "cell_type": "markdown",
   "metadata": {},
   "source": [
    "the two sample T-test will be used, hence the need to create my two samples. with the first sample being the ```Recency of customers who accepted the offer```, and the second being the``` recency of customers who rejected the offer.```"
   ]
  },
  {
   "cell_type": "code",
   "execution_count": 51,
   "metadata": {},
   "outputs": [],
   "source": [
    "# Recency of customers who accepted the offer\n",
    "\n",
    "recency_a = sample_df[sample_df['Response'] == 1]['Recency']\n",
    "\n"
   ]
  },
  {
   "cell_type": "code",
   "execution_count": 52,
   "metadata": {},
   "outputs": [],
   "source": [
    "# Recency of customers who rejected the offer\n",
    "\n",
    "recency_r = sample_df[sample_df['Response']== 0]['Recency']\n"
   ]
  },
  {
   "attachments": {},
   "cell_type": "markdown",
   "metadata": {},
   "source": [
    "#### calculate the p-value"
   ]
  },
  {
   "cell_type": "code",
   "execution_count": 53,
   "metadata": {},
   "outputs": [
    {
     "name": "stdout",
     "output_type": "stream",
     "text": [
      "t-stat: -2.28, \n",
      "p-value: 0.02482\n"
     ]
    }
   ],
   "source": [
    "# two sampled t-test\n",
    "\n",
    "from scipy.stats import ttest_ind\n",
    "\n",
    "t_stat, pvalue = ttest_ind(recency_a, recency_r)\n",
    "print (f't-stat: {t_stat:.2f}, \\np-value: {pvalue:.5f}')\n"
   ]
  },
  {
   "attachments": {},
   "cell_type": "markdown",
   "metadata": {},
   "source": [
    "4. Determine the statistical significance\n",
    "\n",
    "The pvalue from above is compared against a significance level threshold of alpha  ``0.05`` and since ``0.024`` is smaller than our alpha thus statistically significant, we can reject our null hypothesis. This is an indicator that feature “Response” may be a strong predictor of the target variable “Recency\""
   ]
  },
  {
   "attachments": {},
   "cell_type": "markdown",
   "metadata": {},
   "source": [
    "### ANOVA Test"
   ]
  },
  {
   "attachments": {},
   "cell_type": "markdown",
   "metadata": {},
   "source": [
    "This is used to compare more than two samples. More aptly put, it compares the ratio of variance across different groups against the variance within each group"
   ]
  },
  {
   "attachments": {},
   "cell_type": "markdown",
   "metadata": {},
   "source": [
    "For example. use of feature ``\"Kidhome\"`` against feature ``\"number of web purchases\"``. Kidhome is categorical and has 3 distinct values as seen below"
   ]
  },
  {
   "cell_type": "code",
   "execution_count": 54,
   "metadata": {},
   "outputs": [
    {
     "data": {
      "text/plain": [
       "0    55\n",
       "1    42\n",
       "2     3\n",
       "Name: Kidhome, dtype: int64"
      ]
     },
     "execution_count": 54,
     "metadata": {},
     "output_type": "execute_result"
    }
   ],
   "source": [
    "sample_df.Kidhome.value_counts()"
   ]
  },
  {
   "attachments": {},
   "cell_type": "markdown",
   "metadata": {},
   "source": [
    "From these we can get 3 samples"
   ]
  },
  {
   "cell_type": "code",
   "execution_count": 55,
   "metadata": {},
   "outputs": [],
   "source": [
    "kidhome_0 = sample_df[sample_df['Kidhome']==0]['NumWebPurchases']\n",
    "kidhome_1 = sample_df[sample_df['Kidhome']==1]['NumWebPurchases']\n",
    "kidhome_2 = sample_df[sample_df['Kidhome']==2]['NumWebPurchases']"
   ]
  },
  {
   "attachments": {},
   "cell_type": "markdown",
   "metadata": {},
   "source": [
    "**we can proceed to state our null and alternative hypothesis**\n",
    "\n",
    "$H_0$ : _there is no difference among the three groups_\n",
    "\n",
    "$H_A$ : _there is a difference between at least two groups_"
   ]
  },
  {
   "attachments": {},
   "cell_type": "markdown",
   "metadata": {},
   "source": [
    "calculate the p value"
   ]
  },
  {
   "cell_type": "code",
   "execution_count": 56,
   "metadata": {},
   "outputs": [
    {
     "name": "stdout",
     "output_type": "stream",
     "text": [
      "f-stat: 8.50, \n",
      "p-value: 0.00040\n"
     ]
    }
   ],
   "source": [
    "from scipy import stats\n",
    "from scipy.stats import f\n",
    "\n",
    "# calculating using the stats library\n",
    "\n",
    "f_stat, pvalue = stats.f_oneway(kidhome_0, kidhome_1, kidhome_2)\n",
    "\n",
    "print (f'f-stat: {f_stat:.2f}, \\np-value: {pvalue:.5f}')\n",
    "\n"
   ]
  },
  {
   "attachments": {},
   "cell_type": "markdown",
   "metadata": {},
   "source": [
    "We can infer that there is a difference in ``Num WEb Purchases`` between at least two groups hence rejecting null hypothesis since p-value  ``` 0.0004``` is less than alpha of ``0.05``"
   ]
  },
  {
   "attachments": {},
   "cell_type": "markdown",
   "metadata": {},
   "source": [
    "### Chi - Squared Test"
   ]
  },
  {
   "attachments": {},
   "cell_type": "markdown",
   "metadata": {},
   "source": [
    "* used to determine if there is a significant association between two categorical variables. \n",
    "* if two categorical variables are independent, then one categorical variable should have similar composition when the other categorical variable changes."
   ]
  },
  {
   "attachments": {},
   "cell_type": "markdown",
   "metadata": {},
   "source": [
    "for this test we will look at two categories from our sample data, ``Education`` and ``Response``"
   ]
  },
  {
   "attachments": {},
   "cell_type": "markdown",
   "metadata": {},
   "source": [
    "if these two variables are completely independent to each other (null hypothesis is true), then the proportion of positive Response and negative Response should be the same across all Education groups."
   ]
  },
  {
   "attachments": {},
   "cell_type": "markdown",
   "metadata": {},
   "source": [
    "**we can proceed to define our hypothesis**\n",
    "\n",
    "$H_0$ :“Education” and “Response” are independent to each other. \n",
    "\n",
    "$H_A$ :“Education” and “Response” are dependent to each other. "
   ]
  },
  {
   "cell_type": "code",
   "execution_count": 57,
   "metadata": {},
   "outputs": [
    {
     "data": {
      "text/html": [
       "<div>\n",
       "<style scoped>\n",
       "    .dataframe tbody tr th:only-of-type {\n",
       "        vertical-align: middle;\n",
       "    }\n",
       "\n",
       "    .dataframe tbody tr th {\n",
       "        vertical-align: top;\n",
       "    }\n",
       "\n",
       "    .dataframe thead th {\n",
       "        text-align: right;\n",
       "    }\n",
       "</style>\n",
       "<table border=\"1\" class=\"dataframe\">\n",
       "  <thead>\n",
       "    <tr style=\"text-align: right;\">\n",
       "      <th>Response</th>\n",
       "      <th>0</th>\n",
       "      <th>1</th>\n",
       "    </tr>\n",
       "    <tr>\n",
       "      <th>Education</th>\n",
       "      <th></th>\n",
       "      <th></th>\n",
       "    </tr>\n",
       "  </thead>\n",
       "  <tbody>\n",
       "    <tr>\n",
       "      <th>2n Cycle</th>\n",
       "      <td>13</td>\n",
       "      <td>3</td>\n",
       "    </tr>\n",
       "    <tr>\n",
       "      <th>Basic</th>\n",
       "      <td>2</td>\n",
       "      <td>0</td>\n",
       "    </tr>\n",
       "    <tr>\n",
       "      <th>Graduation</th>\n",
       "      <td>44</td>\n",
       "      <td>5</td>\n",
       "    </tr>\n",
       "    <tr>\n",
       "      <th>Master</th>\n",
       "      <td>9</td>\n",
       "      <td>4</td>\n",
       "    </tr>\n",
       "    <tr>\n",
       "      <th>PhD</th>\n",
       "      <td>17</td>\n",
       "      <td>3</td>\n",
       "    </tr>\n",
       "  </tbody>\n",
       "</table>\n",
       "</div>"
      ],
      "text/plain": [
       "Response     0  1\n",
       "Education        \n",
       "2n Cycle    13  3\n",
       "Basic        2  0\n",
       "Graduation  44  5\n",
       "Master       9  4\n",
       "PhD         17  3"
      ]
     },
     "execution_count": 57,
     "metadata": {},
     "output_type": "execute_result"
    }
   ],
   "source": [
    "# The code pd.crosstab(sample_df['Education'], sample_df['Response']) creates a contingency table or cross-tabulation between the two categorical variables \n",
    "\n",
    "# A contingency table is a table that displays the frequency distribution of one or more categorical variables in relation to one another. \n",
    "\n",
    "ed_contingency = pd.crosstab(sample_df['Education'], sample_df['Response'])\n",
    "\n",
    "ed_contingency"
   ]
  },
  {
   "cell_type": "code",
   "execution_count": 58,
   "metadata": {},
   "outputs": [
    {
     "name": "stdout",
     "output_type": "stream",
     "text": [
      "p-value: 0.41298\n"
     ]
    }
   ],
   "source": [
    "# importing the necessary library\n",
    "\n",
    "from scipy.stats import chi2_contingency\n",
    "\n",
    "# running the chi test\n",
    "\n",
    "chi2_stat, pvalue, dof, exp = chi2_contingency(ed_contingency)\n",
    "\n",
    "\n",
    "print (f'p-value: {pvalue:.5f}')"
   ]
  },
  {
   "attachments": {},
   "cell_type": "markdown",
   "metadata": {},
   "source": [
    "The p-value  is ``0.41``, suggesting that it is not statistically significant. Therefore, we fail to reject the null hypothesis that these two categorical variables are independent."
   ]
  }
 ],
 "metadata": {
  "kernelspec": {
   "display_name": "Python (learn-env)",
   "language": "python",
   "name": "learn-env"
  },
  "language_info": {
   "codemirror_mode": {
    "name": "ipython",
    "version": 3
   },
   "file_extension": ".py",
   "mimetype": "text/x-python",
   "name": "python",
   "nbconvert_exporter": "python",
   "pygments_lexer": "ipython3",
   "version": "3.8.5"
  },
  "orig_nbformat": 4
 },
 "nbformat": 4,
 "nbformat_minor": 2
}
